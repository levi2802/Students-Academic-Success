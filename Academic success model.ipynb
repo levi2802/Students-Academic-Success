{
 "cells": [
  {
   "cell_type": "markdown",
   "id": "4d99223c",
   "metadata": {},
   "source": [
    "### Project Overview:\n",
    "\n",
    "In this project, we will predict students' academic success using a supervised machine learning model (Classification). We'll use tabular data that includes features related to students' performance and personal background. The project will guide you through data preparation, model training, and evaluation."
   ]
  },
  {
   "cell_type": "markdown",
   "id": "e684b719",
   "metadata": {},
   "source": [
    "1. Marital status: Marital status of the student.\n",
    "\n",
    "2. Application mode: Mode of application.\n",
    "\n",
    "3. Application order: Order in which the application was made.\n",
    "\n",
    "4. Course: Course enrolled in.\n",
    "\n",
    "5. Daytime/evening attendance: Attendance time.\n",
    "\n",
    "6. Previous qualification: Previous educational qualification.\n",
    "\n",
    "7. Previous qualification (grade): Grade of the previous qualification.\n",
    "\n",
    "8. Nationality: Nationality of the student.\n",
    "\n",
    "9. Mother's qualification: Mother's highest educational qualification.\n",
    "\n",
    "10. Father's qualification: Father's highest educational qualification.\n",
    "\n",
    "11. Mother's occupation: Mother's occupation.\n",
    "\n",
    "12. Father's occupation: Father's occupation.\n",
    "\n",
    "13. Displaced: Displacement status.\n",
    "\n",
    "14. Educational special needs: Indicates if the student has special educational needs.\n",
    "\n",
    "15. Debtor: Indicates if the student is a debtor.\n",
    "\n",
    "16. Tuition fees up to date: Indicates if tuition fees are up to date.\n",
    "\n",
    "17. Gender: Gender of the student.\n",
    "\n",
    "18. Scholarship holder: Indicates if the student is a scholarship holder.\n",
    "\n",
    "19. Age at enrollment: Age at the time of enrollment.\n",
    "\n",
    "20. International: Indicates if the student is an international student.\n",
    "\n",
    "21. Curricular units 1st sem (credited): Number of curricular units credited in the first semester.\n",
    "\n",
    "22. Curricular units 1st sem (enrolled): Number of curricular units enrolled in the first semester.\n",
    "\n",
    "23. Curricular units 1st sem (evaluations): Number of evaluations in the first semester.\n",
    "\n",
    "24. Curricular units 1st sem (approved): Number of curricular units approved in the first semester.\n",
    "\n",
    "25. Curricular units 1st sem (grade): Grade in the first semester.\n",
    "\n",
    "26. Curricular units 1st sem (without evaluations): Number of curricular units without evaluations in the first semester.\n",
    "\n",
    "27. Curricular units 2nd sem (credited): Number of curricular units credited in the second semester.\n",
    "\n",
    "28. Curricular units 2nd sem (enrolled): Number of curricular units enrolled in the second semester.\n",
    "\n",
    "29. Curricular units 2nd sem (evaluations): Number of evaluations in the second semester.\n",
    "\n",
    "30. Curricular units 2nd sem (approved): Number of curricular units approved in the second semester.\n",
    "\n",
    "31. Curricular units 2nd sem (grade): Grade in the second semester.\n",
    "\n",
    "32. Curricular units 2nd sem (without evaluations): Number of curricular units without evaluations in the second semester.\n",
    "\n",
    "33. Unemployment rate: Unemployment rate during the period.\n",
    "\n",
    "34. Inflation rate: Inflation rate during the period.\n",
    "\n",
    "35. GDP: GDP during the period.\n",
    "\n",
    "36. Target: Outcome for the student (Graduate, Dropout, Enrolled)."
   ]
  },
  {
   "cell_type": "code",
   "execution_count": 1,
   "id": "fe325b50",
   "metadata": {},
   "outputs": [
    {
     "name": "stderr",
     "output_type": "stream",
     "text": [
      "C:\\anaconda\\lib\\site-packages\\scipy\\__init__.py:146: UserWarning: A NumPy version >=1.16.5 and <1.23.0 is required for this version of SciPy (detected version 1.26.4\n",
      "  warnings.warn(f\"A NumPy version >={np_minversion} and <{np_maxversion}\"\n"
     ]
    }
   ],
   "source": [
    "import pandas as pd\n",
    "import numpy as np\n",
    "from sklearn.model_selection import train_test_split\n",
    "from sklearn.preprocessing import LabelEncoder"
   ]
  },
  {
   "cell_type": "markdown",
   "id": "259e8661",
   "metadata": {},
   "source": [
    "### Data Pre-processing"
   ]
  },
  {
   "cell_type": "code",
   "execution_count": 2,
   "id": "f97c092c",
   "metadata": {},
   "outputs": [],
   "source": [
    "train_data = pd.read_csv('train_Labeled.csv')\n",
    "test_data = pd.read_csv('test_Labeled.csv')"
   ]
  },
  {
   "cell_type": "code",
   "execution_count": 3,
   "id": "ecca73fa",
   "metadata": {
    "scrolled": true
   },
   "outputs": [
    {
     "data": {
      "text/html": [
       "<div>\n",
       "<style scoped>\n",
       "    .dataframe tbody tr th:only-of-type {\n",
       "        vertical-align: middle;\n",
       "    }\n",
       "\n",
       "    .dataframe tbody tr th {\n",
       "        vertical-align: top;\n",
       "    }\n",
       "\n",
       "    .dataframe thead th {\n",
       "        text-align: right;\n",
       "    }\n",
       "</style>\n",
       "<table border=\"1\" class=\"dataframe\">\n",
       "  <thead>\n",
       "    <tr style=\"text-align: right;\">\n",
       "      <th></th>\n",
       "      <th>Marital status</th>\n",
       "      <th>Application mode</th>\n",
       "      <th>Application order</th>\n",
       "      <th>Course</th>\n",
       "      <th>Daytime/evening attendance</th>\n",
       "      <th>Previous qualification</th>\n",
       "      <th>Previous qualification (grade)</th>\n",
       "      <th>Nationality</th>\n",
       "      <th>Mother's qualification</th>\n",
       "      <th>Father's qualification</th>\n",
       "      <th>...</th>\n",
       "      <th>Curricular units 2nd sem (credited)</th>\n",
       "      <th>Curricular units 2nd sem (enrolled)</th>\n",
       "      <th>Curricular units 2nd sem (evaluations)</th>\n",
       "      <th>Curricular units 2nd sem (approved)</th>\n",
       "      <th>Curricular units 2nd sem (grade)</th>\n",
       "      <th>Curricular units 2nd sem (without evaluations)</th>\n",
       "      <th>Unemployment rate</th>\n",
       "      <th>Inflation rate</th>\n",
       "      <th>GDP</th>\n",
       "      <th>Target</th>\n",
       "    </tr>\n",
       "  </thead>\n",
       "  <tbody>\n",
       "    <tr>\n",
       "      <th>0</th>\n",
       "      <td>single</td>\n",
       "      <td>1st phase - general contingent</td>\n",
       "      <td>1</td>\n",
       "      <td>Social Service</td>\n",
       "      <td>daytime</td>\n",
       "      <td>Secondary education</td>\n",
       "      <td>126.0</td>\n",
       "      <td>Portuguese</td>\n",
       "      <td>Secondary Education - 12th Year of Schooling o...</td>\n",
       "      <td>Basic Education 3rd Cycle (9th/10th/11th Year)...</td>\n",
       "      <td>...</td>\n",
       "      <td>0</td>\n",
       "      <td>6</td>\n",
       "      <td>7</td>\n",
       "      <td>6</td>\n",
       "      <td>12.428571</td>\n",
       "      <td>0</td>\n",
       "      <td>11.1</td>\n",
       "      <td>0.6</td>\n",
       "      <td>2.02</td>\n",
       "      <td>Graduate</td>\n",
       "    </tr>\n",
       "    <tr>\n",
       "      <th>1</th>\n",
       "      <td>single</td>\n",
       "      <td>2nd phase - general contingent</td>\n",
       "      <td>1</td>\n",
       "      <td>Social Service</td>\n",
       "      <td>daytime</td>\n",
       "      <td>Secondary education</td>\n",
       "      <td>125.0</td>\n",
       "      <td>Portuguese</td>\n",
       "      <td>Basic Education 3rd Cycle (9th/10th/11th Year)...</td>\n",
       "      <td>Basic Education 3rd Cycle (9th/10th/11th Year)...</td>\n",
       "      <td>...</td>\n",
       "      <td>0</td>\n",
       "      <td>6</td>\n",
       "      <td>9</td>\n",
       "      <td>0</td>\n",
       "      <td>0.000000</td>\n",
       "      <td>0</td>\n",
       "      <td>11.1</td>\n",
       "      <td>0.6</td>\n",
       "      <td>2.02</td>\n",
       "      <td>Dropout</td>\n",
       "    </tr>\n",
       "    <tr>\n",
       "      <th>2</th>\n",
       "      <td>single</td>\n",
       "      <td>2nd phase - general contingent</td>\n",
       "      <td>2</td>\n",
       "      <td>Tourism</td>\n",
       "      <td>daytime</td>\n",
       "      <td>Secondary education</td>\n",
       "      <td>137.0</td>\n",
       "      <td>Portuguese</td>\n",
       "      <td>Higher Education - Degree</td>\n",
       "      <td>Basic Education 3rd Cycle (9th/10th/11th Year)...</td>\n",
       "      <td>...</td>\n",
       "      <td>0</td>\n",
       "      <td>6</td>\n",
       "      <td>0</td>\n",
       "      <td>0</td>\n",
       "      <td>0.000000</td>\n",
       "      <td>0</td>\n",
       "      <td>16.2</td>\n",
       "      <td>0.3</td>\n",
       "      <td>-0.92</td>\n",
       "      <td>Dropout</td>\n",
       "    </tr>\n",
       "    <tr>\n",
       "      <th>3</th>\n",
       "      <td>single</td>\n",
       "      <td>1st phase - general contingent</td>\n",
       "      <td>3</td>\n",
       "      <td>Nursing</td>\n",
       "      <td>daytime</td>\n",
       "      <td>Secondary education</td>\n",
       "      <td>131.0</td>\n",
       "      <td>Portuguese</td>\n",
       "      <td>Basic Education 3rd Cycle (9th/10th/11th Year)...</td>\n",
       "      <td>Higher Education - Degree</td>\n",
       "      <td>...</td>\n",
       "      <td>0</td>\n",
       "      <td>8</td>\n",
       "      <td>11</td>\n",
       "      <td>7</td>\n",
       "      <td>12.820000</td>\n",
       "      <td>0</td>\n",
       "      <td>11.1</td>\n",
       "      <td>0.6</td>\n",
       "      <td>2.02</td>\n",
       "      <td>Enrolled</td>\n",
       "    </tr>\n",
       "    <tr>\n",
       "      <th>4</th>\n",
       "      <td>single</td>\n",
       "      <td>1st phase - general contingent</td>\n",
       "      <td>2</td>\n",
       "      <td>Nursing</td>\n",
       "      <td>daytime</td>\n",
       "      <td>Secondary education</td>\n",
       "      <td>132.0</td>\n",
       "      <td>Portuguese</td>\n",
       "      <td>Basic Education 3rd Cycle (9th/10th/11th Year)...</td>\n",
       "      <td>Basic education 1st cycle (4th/5th year) or eq...</td>\n",
       "      <td>...</td>\n",
       "      <td>0</td>\n",
       "      <td>7</td>\n",
       "      <td>12</td>\n",
       "      <td>6</td>\n",
       "      <td>12.933333</td>\n",
       "      <td>0</td>\n",
       "      <td>7.6</td>\n",
       "      <td>2.6</td>\n",
       "      <td>0.32</td>\n",
       "      <td>Graduate</td>\n",
       "    </tr>\n",
       "  </tbody>\n",
       "</table>\n",
       "<p>5 rows × 37 columns</p>\n",
       "</div>"
      ],
      "text/plain": [
       "  Marital status                Application mode  Application order  \\\n",
       "0         single  1st phase - general contingent                  1   \n",
       "1         single  2nd phase - general contingent                  1   \n",
       "2         single  2nd phase - general contingent                  2   \n",
       "3         single  1st phase - general contingent                  3   \n",
       "4         single  1st phase - general contingent                  2   \n",
       "\n",
       "           Course Daytime/evening attendance Previous qualification  \\\n",
       "0  Social Service                    daytime    Secondary education   \n",
       "1  Social Service                    daytime    Secondary education   \n",
       "2         Tourism                    daytime    Secondary education   \n",
       "3         Nursing                    daytime    Secondary education   \n",
       "4         Nursing                    daytime    Secondary education   \n",
       "\n",
       "   Previous qualification (grade) Nationality  \\\n",
       "0                           126.0  Portuguese   \n",
       "1                           125.0  Portuguese   \n",
       "2                           137.0  Portuguese   \n",
       "3                           131.0  Portuguese   \n",
       "4                           132.0  Portuguese   \n",
       "\n",
       "                              Mother's qualification  \\\n",
       "0  Secondary Education - 12th Year of Schooling o...   \n",
       "1  Basic Education 3rd Cycle (9th/10th/11th Year)...   \n",
       "2                          Higher Education - Degree   \n",
       "3  Basic Education 3rd Cycle (9th/10th/11th Year)...   \n",
       "4  Basic Education 3rd Cycle (9th/10th/11th Year)...   \n",
       "\n",
       "                              Father's qualification  ...  \\\n",
       "0  Basic Education 3rd Cycle (9th/10th/11th Year)...  ...   \n",
       "1  Basic Education 3rd Cycle (9th/10th/11th Year)...  ...   \n",
       "2  Basic Education 3rd Cycle (9th/10th/11th Year)...  ...   \n",
       "3                          Higher Education - Degree  ...   \n",
       "4  Basic education 1st cycle (4th/5th year) or eq...  ...   \n",
       "\n",
       "  Curricular units 2nd sem (credited) Curricular units 2nd sem (enrolled)  \\\n",
       "0                                   0                                   6   \n",
       "1                                   0                                   6   \n",
       "2                                   0                                   6   \n",
       "3                                   0                                   8   \n",
       "4                                   0                                   7   \n",
       "\n",
       "   Curricular units 2nd sem (evaluations) Curricular units 2nd sem (approved)  \\\n",
       "0                                       7                                   6   \n",
       "1                                       9                                   0   \n",
       "2                                       0                                   0   \n",
       "3                                      11                                   7   \n",
       "4                                      12                                   6   \n",
       "\n",
       "  Curricular units 2nd sem (grade)  \\\n",
       "0                        12.428571   \n",
       "1                         0.000000   \n",
       "2                         0.000000   \n",
       "3                        12.820000   \n",
       "4                        12.933333   \n",
       "\n",
       "  Curricular units 2nd sem (without evaluations) Unemployment rate  \\\n",
       "0                                              0              11.1   \n",
       "1                                              0              11.1   \n",
       "2                                              0              16.2   \n",
       "3                                              0              11.1   \n",
       "4                                              0               7.6   \n",
       "\n",
       "  Inflation rate   GDP    Target  \n",
       "0            0.6  2.02  Graduate  \n",
       "1            0.6  2.02   Dropout  \n",
       "2            0.3 -0.92   Dropout  \n",
       "3            0.6  2.02  Enrolled  \n",
       "4            2.6  0.32  Graduate  \n",
       "\n",
       "[5 rows x 37 columns]"
      ]
     },
     "execution_count": 3,
     "metadata": {},
     "output_type": "execute_result"
    }
   ],
   "source": [
    "# Display the first few rows of the dataset\n",
    "train_data.head()"
   ]
  },
  {
   "cell_type": "code",
   "execution_count": 4,
   "id": "7927802c",
   "metadata": {
    "scrolled": false
   },
   "outputs": [
    {
     "data": {
      "text/plain": [
       "Marital status                                     0\n",
       "Application mode                                   6\n",
       "Application order                                  0\n",
       "Course                                             2\n",
       "Daytime/evening attendance                         0\n",
       "Previous qualification                             8\n",
       "Previous qualification (grade)                     0\n",
       "Nationality                                        3\n",
       "Mother's qualification                             9\n",
       "Father's qualification                            15\n",
       "Mother's occupation                               10\n",
       "Father's occupation                               15\n",
       "Admission grade                                    0\n",
       "Displaced                                          0\n",
       "Educational special needs                          0\n",
       "Debtor                                             0\n",
       "Tuition fees up to date                            0\n",
       "Gender                                             0\n",
       "Scholarship holder                                 0\n",
       "Age at enrollment                                  0\n",
       "International                                      0\n",
       "Curricular units 1st sem (credited)                0\n",
       "Curricular units 1st sem (enrolled)                0\n",
       "Curricular units 1st sem (evaluations)             0\n",
       "Curricular units 1st sem (approved)                0\n",
       "Curricular units 1st sem (grade)                   0\n",
       "Curricular units 1st sem (without evaluations)     0\n",
       "Curricular units 2nd sem (credited)                0\n",
       "Curricular units 2nd sem (enrolled)                0\n",
       "Curricular units 2nd sem (evaluations)             0\n",
       "Curricular units 2nd sem (approved)                0\n",
       "Curricular units 2nd sem (grade)                   0\n",
       "Curricular units 2nd sem (without evaluations)     0\n",
       "Unemployment rate                                  0\n",
       "Inflation rate                                     0\n",
       "GDP                                                0\n",
       "Target                                             0\n",
       "dtype: int64"
      ]
     },
     "execution_count": 4,
     "metadata": {},
     "output_type": "execute_result"
    }
   ],
   "source": [
    "# Check for missing values\n",
    "train_data.isnull().sum()"
   ]
  },
  {
   "cell_type": "code",
   "execution_count": 5,
   "id": "57e49649",
   "metadata": {},
   "outputs": [
    {
     "data": {
      "text/plain": [
       "Marital status                                     0\n",
       "Application mode                                   4\n",
       "Application order                                  0\n",
       "Course                                             4\n",
       "Daytime/evening attendance                         0\n",
       "Previous qualification                             3\n",
       "Previous qualification (grade)                     0\n",
       "Nationality                                        3\n",
       "Mother's qualification                             7\n",
       "Father's qualification                            11\n",
       "Mother's occupation                               13\n",
       "Father's occupation                                7\n",
       "Admission grade                                    0\n",
       "Displaced                                          0\n",
       "Educational special needs                          0\n",
       "Debtor                                             0\n",
       "Tuition fees up to date                            0\n",
       "Gender                                             0\n",
       "Scholarship holder                                 0\n",
       "Age at enrollment                                  0\n",
       "International                                      0\n",
       "Curricular units 1st sem (credited)                0\n",
       "Curricular units 1st sem (enrolled)                0\n",
       "Curricular units 1st sem (evaluations)             0\n",
       "Curricular units 1st sem (approved)                0\n",
       "Curricular units 1st sem (grade)                   0\n",
       "Curricular units 1st sem (without evaluations)     0\n",
       "Curricular units 2nd sem (credited)                0\n",
       "Curricular units 2nd sem (enrolled)                0\n",
       "Curricular units 2nd sem (evaluations)             0\n",
       "Curricular units 2nd sem (approved)                0\n",
       "Curricular units 2nd sem (grade)                   0\n",
       "Curricular units 2nd sem (without evaluations)     0\n",
       "Unemployment rate                                  0\n",
       "Inflation rate                                     0\n",
       "GDP                                                0\n",
       "dtype: int64"
      ]
     },
     "execution_count": 5,
     "metadata": {},
     "output_type": "execute_result"
    }
   ],
   "source": [
    "# Check for missing values\n",
    "test_data.isnull().sum()"
   ]
  },
  {
   "cell_type": "code",
   "execution_count": 6,
   "id": "b9823095",
   "metadata": {
    "scrolled": true
   },
   "outputs": [
    {
     "name": "stderr",
     "output_type": "stream",
     "text": [
      "C:\\Users\\Teo Keng Hiang\\AppData\\Local\\Temp\\ipykernel_25544\\970664713.py:2: FutureWarning: Dropping of nuisance columns in DataFrame reductions (with 'numeric_only=None') is deprecated; in a future version this will raise TypeError.  Select only valid columns before calling the reduction.\n",
      "  train_data.fillna(train_data.mean(), inplace=True)\n",
      "C:\\Users\\Teo Keng Hiang\\AppData\\Local\\Temp\\ipykernel_25544\\970664713.py:3: FutureWarning: Dropping of nuisance columns in DataFrame reductions (with 'numeric_only=None') is deprecated; in a future version this will raise TypeError.  Select only valid columns before calling the reduction.\n",
      "  test_data.fillna(test_data.mean(), inplace=True)\n"
     ]
    }
   ],
   "source": [
    "# Fill missing values with the mean for numerical features\n",
    "train_data.fillna(train_data.mean(), inplace=True)\n",
    "test_data.fillna(test_data.mean(), inplace=True)"
   ]
  },
  {
   "cell_type": "code",
   "execution_count": 7,
   "id": "17a73ac2",
   "metadata": {},
   "outputs": [],
   "source": [
    "# Remove all rows where any column contains missing data\n",
    "train_data = train_data.dropna()\n",
    "test_data = test_data.dropna()"
   ]
  },
  {
   "cell_type": "code",
   "execution_count": 8,
   "id": "62734341",
   "metadata": {},
   "outputs": [
    {
     "data": {
      "text/plain": [
       "Marital status                                    0\n",
       "Application mode                                  0\n",
       "Application order                                 0\n",
       "Course                                            0\n",
       "Daytime/evening attendance                        0\n",
       "Previous qualification                            0\n",
       "Previous qualification (grade)                    0\n",
       "Nationality                                       0\n",
       "Mother's qualification                            0\n",
       "Father's qualification                            0\n",
       "Mother's occupation                               0\n",
       "Father's occupation                               0\n",
       "Admission grade                                   0\n",
       "Displaced                                         0\n",
       "Educational special needs                         0\n",
       "Debtor                                            0\n",
       "Tuition fees up to date                           0\n",
       "Gender                                            0\n",
       "Scholarship holder                                0\n",
       "Age at enrollment                                 0\n",
       "International                                     0\n",
       "Curricular units 1st sem (credited)               0\n",
       "Curricular units 1st sem (enrolled)               0\n",
       "Curricular units 1st sem (evaluations)            0\n",
       "Curricular units 1st sem (approved)               0\n",
       "Curricular units 1st sem (grade)                  0\n",
       "Curricular units 1st sem (without evaluations)    0\n",
       "Curricular units 2nd sem (credited)               0\n",
       "Curricular units 2nd sem (enrolled)               0\n",
       "Curricular units 2nd sem (evaluations)            0\n",
       "Curricular units 2nd sem (approved)               0\n",
       "Curricular units 2nd sem (grade)                  0\n",
       "Curricular units 2nd sem (without evaluations)    0\n",
       "Unemployment rate                                 0\n",
       "Inflation rate                                    0\n",
       "GDP                                               0\n",
       "dtype: int64"
      ]
     },
     "execution_count": 8,
     "metadata": {},
     "output_type": "execute_result"
    }
   ],
   "source": [
    "# Check for missing values\n",
    "test_data.isnull().sum()"
   ]
  },
  {
   "cell_type": "markdown",
   "id": "14a227c1",
   "metadata": {},
   "source": [
    "### Data Analysis done using SQL"
   ]
  },
  {
   "cell_type": "markdown",
   "id": "d95ecf76",
   "metadata": {},
   "source": [
    "#### Demographic Insights"
   ]
  },
  {
   "cell_type": "markdown",
   "id": "b1021f96",
   "metadata": {},
   "source": [
    "Q1: Graduation rate by marital status"
   ]
  },
  {
   "cell_type": "markdown",
   "id": "d780cea3",
   "metadata": {},
   "source": [
    "- SQL Query: \n",
    "\n",
    "WITH GradRateByMaritalStatus AS (\n",
    "    SELECT marital_status, target, COUNT(*) AS count\n",
    "    FROM students\n",
    "    GROUP BY marital_status, target\n",
    ")\n",
    "\n",
    "SELECT * FROM GradRateByMaritalStatus\n",
    "ORDER BY marital_status;"
   ]
  },
  {
   "cell_type": "markdown",
   "id": "f6fede29",
   "metadata": {},
   "source": [
    "- Insights: \n",
    "\n",
    "Single students have the highest graduation rate with 34,427 graduates (49%) , but also the highest dropout rate with 21,726 dropouts (31%). Married students have a significantly lower graduation rate with 1,593 graduates (30%) and a higher dropout rate of 2,968 (56%). Divorced students show 210 graduates (24%) and 509 dropouts (59%).\n",
    "\n",
    "Married and divorced students show significant dropouts but lower overall numbers compared to single students."
   ]
  },
  {
   "cell_type": "markdown",
   "id": "dbb48395",
   "metadata": {},
   "source": [
    "Q2: Gender distribution in outcomes"
   ]
  },
  {
   "cell_type": "markdown",
   "id": "911229ed",
   "metadata": {},
   "source": [
    "- SQL Query: \n",
    "\n",
    "WITH GenderDistribution AS (\n",
    "    SELECT gender, target, COUNT(*) AS count\n",
    "    FROM students\n",
    "    GROUP BY gender, target\n",
    ")\n",
    "\n",
    "SELECT * FROM GenderDistribution;"
   ]
  },
  {
   "cell_type": "markdown",
   "id": "d8f323ba",
   "metadata": {},
   "source": [
    "- Insights:\n",
    "\n",
    "Female students have a graduation rate with 30,232 graduates (58%), but a dropout rate with 12,316 dropouts (24%). Male students have a graduation rate with 6,050 graduates (25%), but a dropout rate with 12,980 dropouts (54%).\n",
    "\n",
    "Overall female students have a higher graduation rate and a lower dropout rate"
   ]
  },
  {
   "cell_type": "markdown",
   "id": "ecd0958a",
   "metadata": {},
   "source": [
    "Q3: International Vs Local students in outcomes"
   ]
  },
  {
   "cell_type": "markdown",
   "id": "0b1f27df",
   "metadata": {},
   "source": [
    "- SQL Query: \n",
    "\n",
    "WITH internationalStudentImpact AS (\n",
    "    SELECT international, target, COUNT(*) AS count\n",
    "    FROM students\n",
    "    GROUP BY international, target\n",
    ")\n",
    "\n",
    "SELECT * FROM internationalStudentImpact isi;"
   ]
  },
  {
   "cell_type": "markdown",
   "id": "097bb2a6",
   "metadata": {},
   "source": [
    "- Insights: \n",
    "\n",
    "Local students have a lower graduation rate with 36039 (47%) compared to international students with 243 graduates (48%). \n",
    "\n",
    "Local students have a lower drop out rate with 25124 (33%) compared to international students with 172 dropouts (34%). "
   ]
  },
  {
   "cell_type": "markdown",
   "id": "1d1931d4",
   "metadata": {},
   "source": [
    "#### Academic performance"
   ]
  },
  {
   "cell_type": "markdown",
   "id": "c95a81ed",
   "metadata": {},
   "source": [
    "Q4: Average grade of students who have graduated versus those who have dropped out?"
   ]
  },
  {
   "cell_type": "markdown",
   "id": "6559a7ee",
   "metadata": {},
   "source": [
    "- SQL Query: SELECT target, AVG(curricular_units_1st_sem_grade) as avg_grade_1st_sem, AVG(curricular_units_2nd_sem_grade) as avg_grade_2nd_sem FROM students WHERE target IN ('Graduate', 'Dropout') GROUP BY target;"
   ]
  },
  {
   "cell_type": "markdown",
   "id": "36bafa24",
   "metadata": {},
   "source": [
    "- Insights: \n",
    "\n",
    "The average grade for graduates in the first semester is approximately 12.94 and in the second semester is approximately 12.98. The average grade for dropouts in the first semester is approximately 4.89 and in the second semester is approximately 3.76.\n",
    "\n",
    "Graduates have significantly higer average grades in both semesters compared to dropouts."
   ]
  },
  {
   "cell_type": "markdown",
   "id": "07d33eb5",
   "metadata": {},
   "source": [
    "Q5: Impact of special education needs on graduation?"
   ]
  },
  {
   "cell_type": "markdown",
   "id": "031492e7",
   "metadata": {},
   "source": [
    "- SQL Query: SELECT educational_special_needs, target, COUNT(*) as count FROM students GROUP BY educational_special_needs, target ORDER BY educational_special_needs;"
   ]
  },
  {
   "cell_type": "markdown",
   "id": "1e4068e7",
   "metadata": {},
   "source": [
    "- Insights: \n",
    "\n",
    "Students with no special educational needs have a graduation count of 36,149 (47%) and dropout count of 25,202 (33%). Students with special educational needs have a graduation count of 133 (47%) and dropout count of 94 (33%).\n",
    "\n",
    "Students with special educational needs have lower graduation count and higher dropout count compared to those without special needs."
   ]
  },
  {
   "cell_type": "markdown",
   "id": "74a0c2ca",
   "metadata": {},
   "source": [
    "#### Socioeconomic Factors"
   ]
  },
  {
   "cell_type": "markdown",
   "id": "d3aee410",
   "metadata": {},
   "source": [
    "Q6: Correlation between Unemployment Rate and Dropout Rate:"
   ]
  },
  {
   "cell_type": "markdown",
   "id": "7c48c59a",
   "metadata": {},
   "source": [
    "- SQL Query: \n",
    "\n",
    "\n",
    "WITH unemployment_rate_dropout_count as \n",
    "(SELECT unemployment_rate, COUNT(*) as dropout_count \n",
    "FROM students \n",
    "WHERE target = 'Dropout' \n",
    "GROUP BY unemployment_rate \n",
    "ORDER BY unemployment_rate),\n",
    "\n",
    "\n",
    "unemployment_rate_count as \n",
    "(SELECT unemployment_rate, count(*) as total_count\n",
    "FROM students\n",
    "GROUP BY unemployment_rate\n",
    "ORDER BY unemployment_rate)\n",
    "\n",
    "\n",
    "SELECT urc.unemployment_rate, ROUND((urdc.dropout_count * 1.0 / urc.total_count) * 100, 2) AS dropout_percentage\n",
    "FROM unemployment_rate_count urc, unemployment_rate_dropout_count urdc\n",
    "WHERE urc.unemployment_rate = urdc.unemployment_rate;"
   ]
  },
  {
   "cell_type": "markdown",
   "id": "3d339c3e",
   "metadata": {},
   "source": [
    "- Insights: Higher drop out counts for low unemployment rates then higher unemployment rates"
   ]
  },
  {
   "cell_type": "markdown",
   "id": "504fc55f",
   "metadata": {},
   "source": [
    "Q7: Impact of scholarship on graduation?"
   ]
  },
  {
   "cell_type": "markdown",
   "id": "116cc30e",
   "metadata": {},
   "source": [
    "- SQL Query:\n",
    "\n",
    "WITH studentScholarshipImpact AS (\n",
    "    SELECT scholarship_holder, target, COUNT(*) AS count\n",
    "    FROM students\n",
    "    GROUP BY scholarship_holder, target\n",
    ")\n",
    "\n",
    "\n",
    "SELECT * FROM studentScholarshipImpact ssi;\n"
   ]
  },
  {
   "cell_type": "markdown",
   "id": "f9e80a31",
   "metadata": {},
   "source": [
    "- Insights: \n",
    "\n",
    "Number of Scholarship holders that drop out is 1349 while number of non scholarship holders that drop out is 23947. Significantly more non scholarship holders than scholarship holders that dropped out.\n",
    "\n",
    "Number of non scholarship holders that graduate is 20692 which is more than the number of scholarship holders that graduate (15590)."
   ]
  },
  {
   "cell_type": "markdown",
   "id": "4ae7143d",
   "metadata": {},
   "source": [
    "Q8: Impact of debt on graduation?"
   ]
  },
  {
   "cell_type": "markdown",
   "id": "8e2fc8b0",
   "metadata": {},
   "source": [
    "- SQL Query: \n",
    "\n",
    "WITH studentDebtImpact AS (\n",
    "    SELECT debtor, target, COUNT(*) AS count\n",
    "    FROM students\n",
    "    GROUP BY debtor, target\n",
    ")\n",
    "\n",
    "SELECT * FROM studentDebtImpact sdi;\n"
   ]
  },
  {
   "cell_type": "markdown",
   "id": "41a354b7",
   "metadata": {},
   "source": [
    "- Insights:\n",
    "\n",
    "Number of non debtors that drop out is 21117 while number of debtors that drop out is 4179. Significantly more non debtors than debtors dropped out.\n",
    "\n",
    "Number of non debtors that graduate is 35652 which is more than the number of debtors that graduate (630)."
   ]
  },
  {
   "cell_type": "markdown",
   "id": "ab34d24c",
   "metadata": {},
   "source": [
    "#### Enrollment and Academic Progress"
   ]
  },
  {
   "cell_type": "markdown",
   "id": "a30005e8",
   "metadata": {},
   "source": [
    "Q9: Course Enrollment and Success Rates"
   ]
  },
  {
   "cell_type": "markdown",
   "id": "cc15be0a",
   "metadata": {},
   "source": [
    "- SQL Query: \n",
    "\n",
    "WITH CourseSuccess AS (\n",
    "    SELECT course, target, COUNT(*) AS count\n",
    "    FROM students\n",
    "    GROUP BY course, target\n",
    ")\n",
    "\n",
    "SELECT * FROM CourseSuccess\n",
    "ORDER BY count DESC;\n"
   ]
  },
  {
   "cell_type": "markdown",
   "id": "568011dd",
   "metadata": {},
   "source": [
    "- Insights: Nursing has the highest graduation count of 9325 while Biofuel Production Technologies has the lowest graduation count of 8. Management has the highest drop out count of 5014 while Biofuel Production has the lowest drop out count of 54"
   ]
  },
  {
   "cell_type": "markdown",
   "id": "c5461968",
   "metadata": {},
   "source": [
    "Q10: Attendance Mode Impact"
   ]
  },
  {
   "cell_type": "markdown",
   "id": "1c7b20f6",
   "metadata": {},
   "source": [
    "- SQL Query:\n",
    "\n",
    "WITH AttendanceModeImpact AS (\n",
    "    SELECT [daytime_evening _attendance], target, COUNT(*) AS count\n",
    "    FROM students\n",
    "    GROUP BY [daytime_evening _attendance], target\n",
    ")\n",
    "\n",
    "SELECT * FROM AttendanceModeImpact;\n"
   ]
  },
  {
   "cell_type": "markdown",
   "id": "b24388a3",
   "metadata": {},
   "source": [
    " - Insights: Daytime attendance students (34257) have a higher graduation count than evening attendance students (2025). Daytime attendance students (21853) have a higher drop out count than evening attendance students (3443). "
   ]
  },
  {
   "cell_type": "markdown",
   "id": "9c52bd6e",
   "metadata": {},
   "source": [
    "### Exploratory data analysis"
   ]
  },
  {
   "cell_type": "code",
   "execution_count": 9,
   "id": "d1aebc84",
   "metadata": {
    "scrolled": false
   },
   "outputs": [
    {
     "data": {
      "text/html": [
       "<div>\n",
       "<style scoped>\n",
       "    .dataframe tbody tr th:only-of-type {\n",
       "        vertical-align: middle;\n",
       "    }\n",
       "\n",
       "    .dataframe tbody tr th {\n",
       "        vertical-align: top;\n",
       "    }\n",
       "\n",
       "    .dataframe thead th {\n",
       "        text-align: right;\n",
       "    }\n",
       "</style>\n",
       "<table border=\"1\" class=\"dataframe\">\n",
       "  <thead>\n",
       "    <tr style=\"text-align: right;\">\n",
       "      <th></th>\n",
       "      <th>Application order</th>\n",
       "      <th>Previous qualification (grade)</th>\n",
       "      <th>Admission grade</th>\n",
       "      <th>Age at enrollment</th>\n",
       "      <th>Curricular units 1st sem (credited)</th>\n",
       "      <th>Curricular units 1st sem (enrolled)</th>\n",
       "      <th>Curricular units 1st sem (evaluations)</th>\n",
       "      <th>Curricular units 1st sem (approved)</th>\n",
       "      <th>Curricular units 1st sem (grade)</th>\n",
       "      <th>Curricular units 1st sem (without evaluations)</th>\n",
       "      <th>Curricular units 2nd sem (credited)</th>\n",
       "      <th>Curricular units 2nd sem (enrolled)</th>\n",
       "      <th>Curricular units 2nd sem (evaluations)</th>\n",
       "      <th>Curricular units 2nd sem (approved)</th>\n",
       "      <th>Curricular units 2nd sem (grade)</th>\n",
       "      <th>Curricular units 2nd sem (without evaluations)</th>\n",
       "      <th>Unemployment rate</th>\n",
       "      <th>Inflation rate</th>\n",
       "      <th>GDP</th>\n",
       "    </tr>\n",
       "  </thead>\n",
       "  <tbody>\n",
       "    <tr>\n",
       "      <th>count</th>\n",
       "      <td>76451.000000</td>\n",
       "      <td>76451.000000</td>\n",
       "      <td>76451.000000</td>\n",
       "      <td>76451.000000</td>\n",
       "      <td>76451.000000</td>\n",
       "      <td>76451.000000</td>\n",
       "      <td>76451.000000</td>\n",
       "      <td>76451.000000</td>\n",
       "      <td>76451.000000</td>\n",
       "      <td>76451.000000</td>\n",
       "      <td>76451.000000</td>\n",
       "      <td>76451.000000</td>\n",
       "      <td>76451.000000</td>\n",
       "      <td>76451.000000</td>\n",
       "      <td>76451.000000</td>\n",
       "      <td>76451.000000</td>\n",
       "      <td>76451.000000</td>\n",
       "      <td>76451.000000</td>\n",
       "      <td>76451.000000</td>\n",
       "    </tr>\n",
       "    <tr>\n",
       "      <th>mean</th>\n",
       "      <td>1.644701</td>\n",
       "      <td>132.379591</td>\n",
       "      <td>125.022851</td>\n",
       "      <td>22.276412</td>\n",
       "      <td>0.188487</td>\n",
       "      <td>5.891460</td>\n",
       "      <td>7.352042</td>\n",
       "      <td>4.178729</td>\n",
       "      <td>9.996477</td>\n",
       "      <td>0.057906</td>\n",
       "      <td>0.136767</td>\n",
       "      <td>5.933421</td>\n",
       "      <td>7.234202</td>\n",
       "      <td>4.007587</td>\n",
       "      <td>9.626694</td>\n",
       "      <td>0.062367</td>\n",
       "      <td>11.520935</td>\n",
       "      <td>1.228137</td>\n",
       "      <td>-0.081189</td>\n",
       "    </tr>\n",
       "    <tr>\n",
       "      <th>std</th>\n",
       "      <td>1.229962</td>\n",
       "      <td>10.996497</td>\n",
       "      <td>12.553518</td>\n",
       "      <td>6.887840</td>\n",
       "      <td>1.174249</td>\n",
       "      <td>1.671378</td>\n",
       "      <td>3.508184</td>\n",
       "      <td>2.687826</td>\n",
       "      <td>5.263949</td>\n",
       "      <td>0.408456</td>\n",
       "      <td>0.933176</td>\n",
       "      <td>1.627057</td>\n",
       "      <td>3.503181</td>\n",
       "      <td>2.772771</td>\n",
       "      <td>5.545835</td>\n",
       "      <td>0.461984</td>\n",
       "      <td>2.653223</td>\n",
       "      <td>1.398813</td>\n",
       "      <td>2.251433</td>\n",
       "    </tr>\n",
       "    <tr>\n",
       "      <th>min</th>\n",
       "      <td>0.000000</td>\n",
       "      <td>95.000000</td>\n",
       "      <td>95.000000</td>\n",
       "      <td>17.000000</td>\n",
       "      <td>0.000000</td>\n",
       "      <td>0.000000</td>\n",
       "      <td>0.000000</td>\n",
       "      <td>0.000000</td>\n",
       "      <td>0.000000</td>\n",
       "      <td>0.000000</td>\n",
       "      <td>0.000000</td>\n",
       "      <td>0.000000</td>\n",
       "      <td>0.000000</td>\n",
       "      <td>0.000000</td>\n",
       "      <td>0.000000</td>\n",
       "      <td>0.000000</td>\n",
       "      <td>7.600000</td>\n",
       "      <td>-0.800000</td>\n",
       "      <td>-4.060000</td>\n",
       "    </tr>\n",
       "    <tr>\n",
       "      <th>25%</th>\n",
       "      <td>1.000000</td>\n",
       "      <td>125.000000</td>\n",
       "      <td>118.000000</td>\n",
       "      <td>18.000000</td>\n",
       "      <td>0.000000</td>\n",
       "      <td>5.000000</td>\n",
       "      <td>6.000000</td>\n",
       "      <td>2.000000</td>\n",
       "      <td>10.666667</td>\n",
       "      <td>0.000000</td>\n",
       "      <td>0.000000</td>\n",
       "      <td>5.000000</td>\n",
       "      <td>6.000000</td>\n",
       "      <td>1.000000</td>\n",
       "      <td>10.000000</td>\n",
       "      <td>0.000000</td>\n",
       "      <td>9.400000</td>\n",
       "      <td>0.300000</td>\n",
       "      <td>-1.700000</td>\n",
       "    </tr>\n",
       "    <tr>\n",
       "      <th>50%</th>\n",
       "      <td>1.000000</td>\n",
       "      <td>133.100000</td>\n",
       "      <td>124.000000</td>\n",
       "      <td>19.000000</td>\n",
       "      <td>0.000000</td>\n",
       "      <td>6.000000</td>\n",
       "      <td>7.000000</td>\n",
       "      <td>5.000000</td>\n",
       "      <td>12.166667</td>\n",
       "      <td>0.000000</td>\n",
       "      <td>0.000000</td>\n",
       "      <td>6.000000</td>\n",
       "      <td>7.000000</td>\n",
       "      <td>5.000000</td>\n",
       "      <td>12.142857</td>\n",
       "      <td>0.000000</td>\n",
       "      <td>11.100000</td>\n",
       "      <td>1.400000</td>\n",
       "      <td>0.320000</td>\n",
       "    </tr>\n",
       "    <tr>\n",
       "      <th>75%</th>\n",
       "      <td>2.000000</td>\n",
       "      <td>140.000000</td>\n",
       "      <td>132.000000</td>\n",
       "      <td>23.000000</td>\n",
       "      <td>0.000000</td>\n",
       "      <td>6.000000</td>\n",
       "      <td>9.000000</td>\n",
       "      <td>6.000000</td>\n",
       "      <td>13.314286</td>\n",
       "      <td>0.000000</td>\n",
       "      <td>0.000000</td>\n",
       "      <td>6.000000</td>\n",
       "      <td>9.000000</td>\n",
       "      <td>6.000000</td>\n",
       "      <td>13.244444</td>\n",
       "      <td>0.000000</td>\n",
       "      <td>12.700000</td>\n",
       "      <td>2.600000</td>\n",
       "      <td>1.790000</td>\n",
       "    </tr>\n",
       "    <tr>\n",
       "      <th>max</th>\n",
       "      <td>9.000000</td>\n",
       "      <td>190.000000</td>\n",
       "      <td>190.000000</td>\n",
       "      <td>70.000000</td>\n",
       "      <td>20.000000</td>\n",
       "      <td>26.000000</td>\n",
       "      <td>45.000000</td>\n",
       "      <td>26.000000</td>\n",
       "      <td>18.875000</td>\n",
       "      <td>12.000000</td>\n",
       "      <td>19.000000</td>\n",
       "      <td>23.000000</td>\n",
       "      <td>33.000000</td>\n",
       "      <td>20.000000</td>\n",
       "      <td>18.000000</td>\n",
       "      <td>12.000000</td>\n",
       "      <td>16.200000</td>\n",
       "      <td>3.700000</td>\n",
       "      <td>3.510000</td>\n",
       "    </tr>\n",
       "  </tbody>\n",
       "</table>\n",
       "</div>"
      ],
      "text/plain": [
       "       Application order  Previous qualification (grade)  Admission grade  \\\n",
       "count       76451.000000                    76451.000000     76451.000000   \n",
       "mean            1.644701                      132.379591       125.022851   \n",
       "std             1.229962                       10.996497        12.553518   \n",
       "min             0.000000                       95.000000        95.000000   \n",
       "25%             1.000000                      125.000000       118.000000   \n",
       "50%             1.000000                      133.100000       124.000000   \n",
       "75%             2.000000                      140.000000       132.000000   \n",
       "max             9.000000                      190.000000       190.000000   \n",
       "\n",
       "       Age at enrollment  Curricular units 1st sem (credited)  \\\n",
       "count       76451.000000                         76451.000000   \n",
       "mean           22.276412                             0.188487   \n",
       "std             6.887840                             1.174249   \n",
       "min            17.000000                             0.000000   \n",
       "25%            18.000000                             0.000000   \n",
       "50%            19.000000                             0.000000   \n",
       "75%            23.000000                             0.000000   \n",
       "max            70.000000                            20.000000   \n",
       "\n",
       "       Curricular units 1st sem (enrolled)  \\\n",
       "count                         76451.000000   \n",
       "mean                              5.891460   \n",
       "std                               1.671378   \n",
       "min                               0.000000   \n",
       "25%                               5.000000   \n",
       "50%                               6.000000   \n",
       "75%                               6.000000   \n",
       "max                              26.000000   \n",
       "\n",
       "       Curricular units 1st sem (evaluations)  \\\n",
       "count                            76451.000000   \n",
       "mean                                 7.352042   \n",
       "std                                  3.508184   \n",
       "min                                  0.000000   \n",
       "25%                                  6.000000   \n",
       "50%                                  7.000000   \n",
       "75%                                  9.000000   \n",
       "max                                 45.000000   \n",
       "\n",
       "       Curricular units 1st sem (approved)  Curricular units 1st sem (grade)  \\\n",
       "count                         76451.000000                      76451.000000   \n",
       "mean                              4.178729                          9.996477   \n",
       "std                               2.687826                          5.263949   \n",
       "min                               0.000000                          0.000000   \n",
       "25%                               2.000000                         10.666667   \n",
       "50%                               5.000000                         12.166667   \n",
       "75%                               6.000000                         13.314286   \n",
       "max                              26.000000                         18.875000   \n",
       "\n",
       "       Curricular units 1st sem (without evaluations)  \\\n",
       "count                                    76451.000000   \n",
       "mean                                         0.057906   \n",
       "std                                          0.408456   \n",
       "min                                          0.000000   \n",
       "25%                                          0.000000   \n",
       "50%                                          0.000000   \n",
       "75%                                          0.000000   \n",
       "max                                         12.000000   \n",
       "\n",
       "       Curricular units 2nd sem (credited)  \\\n",
       "count                         76451.000000   \n",
       "mean                              0.136767   \n",
       "std                               0.933176   \n",
       "min                               0.000000   \n",
       "25%                               0.000000   \n",
       "50%                               0.000000   \n",
       "75%                               0.000000   \n",
       "max                              19.000000   \n",
       "\n",
       "       Curricular units 2nd sem (enrolled)  \\\n",
       "count                         76451.000000   \n",
       "mean                              5.933421   \n",
       "std                               1.627057   \n",
       "min                               0.000000   \n",
       "25%                               5.000000   \n",
       "50%                               6.000000   \n",
       "75%                               6.000000   \n",
       "max                              23.000000   \n",
       "\n",
       "       Curricular units 2nd sem (evaluations)  \\\n",
       "count                            76451.000000   \n",
       "mean                                 7.234202   \n",
       "std                                  3.503181   \n",
       "min                                  0.000000   \n",
       "25%                                  6.000000   \n",
       "50%                                  7.000000   \n",
       "75%                                  9.000000   \n",
       "max                                 33.000000   \n",
       "\n",
       "       Curricular units 2nd sem (approved)  Curricular units 2nd sem (grade)  \\\n",
       "count                         76451.000000                      76451.000000   \n",
       "mean                              4.007587                          9.626694   \n",
       "std                               2.772771                          5.545835   \n",
       "min                               0.000000                          0.000000   \n",
       "25%                               1.000000                         10.000000   \n",
       "50%                               5.000000                         12.142857   \n",
       "75%                               6.000000                         13.244444   \n",
       "max                              20.000000                         18.000000   \n",
       "\n",
       "       Curricular units 2nd sem (without evaluations)  Unemployment rate  \\\n",
       "count                                    76451.000000       76451.000000   \n",
       "mean                                         0.062367          11.520935   \n",
       "std                                          0.461984           2.653223   \n",
       "min                                          0.000000           7.600000   \n",
       "25%                                          0.000000           9.400000   \n",
       "50%                                          0.000000          11.100000   \n",
       "75%                                          0.000000          12.700000   \n",
       "max                                         12.000000          16.200000   \n",
       "\n",
       "       Inflation rate           GDP  \n",
       "count    76451.000000  76451.000000  \n",
       "mean         1.228137     -0.081189  \n",
       "std          1.398813      2.251433  \n",
       "min         -0.800000     -4.060000  \n",
       "25%          0.300000     -1.700000  \n",
       "50%          1.400000      0.320000  \n",
       "75%          2.600000      1.790000  \n",
       "max          3.700000      3.510000  "
      ]
     },
     "execution_count": 9,
     "metadata": {},
     "output_type": "execute_result"
    }
   ],
   "source": [
    "# Get summary statistics\n",
    "train_data.describe()"
   ]
  },
  {
   "cell_type": "code",
   "execution_count": 10,
   "id": "3baa38b7",
   "metadata": {
    "scrolled": true
   },
   "outputs": [
    {
     "data": {
      "text/plain": [
       "Marital status                                     object\n",
       "Application mode                                   object\n",
       "Application order                                   int64\n",
       "Course                                             object\n",
       "Daytime/evening attendance                         object\n",
       "Previous qualification                             object\n",
       "Previous qualification (grade)                    float64\n",
       "Nationality                                        object\n",
       "Mother's qualification                             object\n",
       "Father's qualification                             object\n",
       "Mother's occupation                                object\n",
       "Father's occupation                                object\n",
       "Admission grade                                     int64\n",
       "Displaced                                          object\n",
       "Educational special needs                          object\n",
       "Debtor                                             object\n",
       "Tuition fees up to date                            object\n",
       "Gender                                             object\n",
       "Scholarship holder                                 object\n",
       "Age at enrollment                                   int64\n",
       "International                                      object\n",
       "Curricular units 1st sem (credited)                 int64\n",
       "Curricular units 1st sem (enrolled)                 int64\n",
       "Curricular units 1st sem (evaluations)              int64\n",
       "Curricular units 1st sem (approved)                 int64\n",
       "Curricular units 1st sem (grade)                  float64\n",
       "Curricular units 1st sem (without evaluations)      int64\n",
       "Curricular units 2nd sem (credited)                 int64\n",
       "Curricular units 2nd sem (enrolled)                 int64\n",
       "Curricular units 2nd sem (evaluations)              int64\n",
       "Curricular units 2nd sem (approved)                 int64\n",
       "Curricular units 2nd sem (grade)                  float64\n",
       "Curricular units 2nd sem (without evaluations)      int64\n",
       "Unemployment rate                                 float64\n",
       "Inflation rate                                    float64\n",
       "GDP                                               float64\n",
       "Target                                             object\n",
       "dtype: object"
      ]
     },
     "execution_count": 10,
     "metadata": {},
     "output_type": "execute_result"
    }
   ],
   "source": [
    "# Check for the data types of all the columns\n",
    "train_data.dtypes"
   ]
  },
  {
   "cell_type": "code",
   "execution_count": 11,
   "id": "9e46167d",
   "metadata": {},
   "outputs": [],
   "source": [
    "import matplotlib.pyplot as plt\n",
    "import seaborn as sns"
   ]
  },
  {
   "cell_type": "code",
   "execution_count": 12,
   "id": "24394fb2",
   "metadata": {
    "scrolled": true
   },
   "outputs": [
    {
     "name": "stderr",
     "output_type": "stream",
     "text": [
      "C:\\anaconda\\lib\\site-packages\\seaborn\\_decorators.py:36: FutureWarning: Pass the following variable as a keyword arg: x. From version 0.12, the only valid positional argument will be `data`, and passing other arguments without an explicit keyword will result in an error or misinterpretation.\n",
      "  warnings.warn(\n"
     ]
    },
    {
     "data": {
      "image/png": "[encoded data removed]",
      "text/plain": [
       "<Figure size 576x432 with 1 Axes>"
      ]
     },
     "metadata": {
      "needs_background": "light"
     },
     "output_type": "display_data"
    }
   ],
   "source": [
    "# Distribution of Target\n",
    "plt.figure(figsize=(8, 6))\n",
    "sns.countplot(train_data['Target'])\n",
    "plt.title('Distribution of Target Variable')\n",
    "plt.xlabel('Target')\n",
    "plt.ylabel('Count')\n",
    "plt.show()"
   ]
  },
  {
   "cell_type": "code",
   "execution_count": 13,
   "id": "01a92a50",
   "metadata": {
    "scrolled": true
   },
   "outputs": [
    {
     "data": {
      "image/png": "[encoded data removed]",
      "text/plain": [
       "<Figure size 720x432 with 1 Axes>"
      ]
     },
     "metadata": {
      "needs_background": "light"
     },
     "output_type": "display_data"
    }
   ],
   "source": [
    "# Relationship between Previous Qualification Grade and Target\n",
    "plt.figure(figsize=(10, 6))\n",
    "sns.boxplot(x='Target', y='Previous qualification (grade)', data=train_data)\n",
    "plt.title('Previous Qualification Grade by Target')\n",
    "plt.xlabel('Target')\n",
    "plt.ylabel('Previous Qualification Grade')\n",
    "plt.show()"
   ]
  },
  {
   "cell_type": "code",
   "execution_count": 14,
   "id": "a328cd27",
   "metadata": {},
   "outputs": [
    {
     "data": {
      "image/png": "[encoded data removed]",
      "text/plain": [
       "<Figure size 864x720 with 2 Axes>"
      ]
     },
     "metadata": {
      "needs_background": "light"
     },
     "output_type": "display_data"
    }
   ],
   "source": [
    "# Correlation Matrix\n",
    "plt.figure(figsize=(12, 10))\n",
    "corr = train_data.corr()\n",
    "sns.heatmap(corr, annot=True, cmap='coolwarm', fmt='.2f', linewidths=0.1)\n",
    "plt.title('Correlation Matrix')\n",
    "plt.show()"
   ]
  },
  {
   "cell_type": "code",
   "execution_count": 15,
   "id": "b4f7c85e",
   "metadata": {},
   "outputs": [
    {
     "data": {
      "image/png": "[encoded data removed]",
      "text/plain": [
       "<Figure size 720x432 with 1 Axes>"
      ]
     },
     "metadata": {
      "needs_background": "light"
     },
     "output_type": "display_data"
    }
   ],
   "source": [
    "# Unemployment rate vs Target\n",
    "plt.figure(figsize=(10, 6))\n",
    "sns.boxplot(x='Target', y='Unemployment rate', data=train_data)\n",
    "plt.title('Unemployment Rate by Target')\n",
    "plt.xlabel('Target')\n",
    "plt.ylabel('Unemployment Rate')\n",
    "plt.show()"
   ]
  },
  {
   "cell_type": "code",
   "execution_count": 16,
   "id": "f9029451",
   "metadata": {
    "scrolled": true
   },
   "outputs": [
    {
     "data": {
      "image/png": "[encoded data removed]",
      "text/plain": [
       "<Figure size 720x432 with 1 Axes>"
      ]
     },
     "metadata": {
      "needs_background": "light"
     },
     "output_type": "display_data"
    }
   ],
   "source": [
    "# Inflation rate vs Target\n",
    "plt.figure(figsize=(10, 6))\n",
    "sns.boxplot(x='Target', y='Inflation rate', data=train_data)\n",
    "plt.title('Inflation Rate by Target')\n",
    "plt.xlabel('Target')\n",
    "plt.ylabel('Inflation Rate')\n",
    "plt.show()"
   ]
  },
  {
   "cell_type": "code",
   "execution_count": 17,
   "id": "0a7cb19d",
   "metadata": {},
   "outputs": [
    {
     "data": {
      "image/png": "[encoded data removed]",
      "text/plain": [
       "<Figure size 720x432 with 1 Axes>"
      ]
     },
     "metadata": {
      "needs_background": "light"
     },
     "output_type": "display_data"
    }
   ],
   "source": [
    "# GDP vs Target\n",
    "plt.figure(figsize=(10, 6))\n",
    "sns.boxplot(x='Target', y='GDP', data=train_data)\n",
    "plt.title('GDP by Target')\n",
    "plt.xlabel('Target')\n",
    "plt.ylabel('GDP')\n",
    "plt.show()"
   ]
  },
  {
   "cell_type": "code",
   "execution_count": 18,
   "id": "1d43364d",
   "metadata": {},
   "outputs": [],
   "source": [
    "# Encode categorical variables using LabelEncoder\n",
    "label_encoder = LabelEncoder()\n",
    "for column in train_data.select_dtypes(include=['object']).columns:\n",
    "    if column in train_data.columns:\n",
    "        train_data[column] = label_encoder.fit_transform(train_data[column])\n",
    "    if column in test_data.columns:\n",
    "        test_data[column] = label_encoder.transform(test_data[column])"
   ]
  },
  {
   "cell_type": "markdown",
   "id": "4636dfb4",
   "metadata": {},
   "source": [
    "### Splitting of data into features(x) and target (y)"
   ]
  },
  {
   "cell_type": "code",
   "execution_count": 19,
   "id": "ec7bf3a1",
   "metadata": {},
   "outputs": [],
   "source": [
    "X = train_data.drop('Target', axis=1) \n",
    "y = train_data['Target']"
   ]
  },
  {
   "cell_type": "code",
   "execution_count": 20,
   "id": "dae847a6",
   "metadata": {},
   "outputs": [],
   "source": [
    "# Split the dataset into training and testing sets. test_size=0.2 indicates 20% of the data will be used for testing.\n",
    "X_train, X_test, y_train, y_test = train_test_split(X, y, test_size=0.2, random_state=42)"
   ]
  },
  {
   "cell_type": "markdown",
   "id": "bcf52e1d",
   "metadata": {},
   "source": [
    "### Model 1 training (Random Forest)"
   ]
  },
  {
   "cell_type": "code",
   "execution_count": 21,
   "id": "77ce139c",
   "metadata": {},
   "outputs": [
    {
     "data": {
      "text/plain": [
       "RandomForestClassifier(random_state=42)"
      ]
     },
     "execution_count": 21,
     "metadata": {},
     "output_type": "execute_result"
    }
   ],
   "source": [
    "from sklearn.ensemble import RandomForestClassifier\n",
    "from sklearn.metrics import accuracy_score, classification_report\n",
    "\n",
    "# Initialize the model\n",
    "rf_model = RandomForestClassifier(random_state=42)\n",
    "\n",
    "# Train the model\n",
    "rf_model.fit(X_train, y_train)"
   ]
  },
  {
   "cell_type": "markdown",
   "id": "d470ec17",
   "metadata": {},
   "source": [
    "### Model 1 Evaluation (Random Forest)"
   ]
  },
  {
   "cell_type": "code",
   "execution_count": 22,
   "id": "4e364622",
   "metadata": {},
   "outputs": [
    {
     "name": "stdout",
     "output_type": "stream",
     "text": [
      "The RandomForest model achieved an accuracy of 82.75% on the test set.\n"
     ]
    }
   ],
   "source": [
    "# Predict on the test set\n",
    "rf_pred = rf_model.predict(X_test)\n",
    "\n",
    "# Calculate accuracy\n",
    "rf_accuracy = accuracy_score(y_test, rf_pred)\n",
    "print(\"The RandomForest model achieved an accuracy of {:.2f}% on the test set.\".format(rf_accuracy * 100))"
   ]
  },
  {
   "attachments": {
    "image-2.png": {
     "image/png": "[encoded data removed]"
    },
    "image-3.png": {
     "image/png": "[encoded data removed]"
    },
    "image-4.png": {
     "image/png": "[encoded data removed]"
    },
    "image.png": {
     "image/png": "[encoded data removed]"
    }
   },
   "cell_type": "markdown",
   "id": "042ad1a3",
   "metadata": {},
   "source": [
    "### Metrics used to evaluate model: \n",
    "1. Precision: Precision is the ratio of correctly predicted positive observations (True Positives) to the total predicted positives. It indicates the accuracy of the positive predictions.\n",
    "\n",
    "![image.png](attachment:image.png)\n",
    "\n",
    "2. Recall (Sensitivity or True Positive Rate): Recall is the ratio of correctly predicted positive observations (True Positives) to all the observations in the actual class. It measures how well the model captures all relevant instances.\n",
    "\n",
    "![image-2.png](attachment:image-2.png)\n",
    "\n",
    "3. F1-Score: The F1-score is the weighted average of precision and recall. It considers both false positives and false negatives. It is useful when you need to balance precision and recall.\n",
    "\n",
    "![image-3.png](attachment:image-3.png)\n",
    "\n",
    "4. Accuracy: Accuracy is the ratio of correctly predicted observations to the total observations.\n",
    "\n",
    "![image-4.png](attachment:image-4.png)"
   ]
  },
  {
   "cell_type": "code",
   "execution_count": 23,
   "id": "2880c6eb",
   "metadata": {
    "scrolled": true
   },
   "outputs": [
    {
     "name": "stdout",
     "output_type": "stream",
     "text": [
      "              precision    recall  f1-score   support\n",
      "\n",
      "           0       0.90      0.83      0.86      5165\n",
      "           1       0.63      0.58      0.60      2893\n",
      "           2       0.85      0.93      0.89      7233\n",
      "\n",
      "    accuracy                           0.83     15291\n",
      "   macro avg       0.79      0.78      0.78     15291\n",
      "weighted avg       0.83      0.83      0.83     15291\n",
      "\n"
     ]
    }
   ],
   "source": [
    "# Display classification report\n",
    "print(classification_report(y_test, rf_pred))"
   ]
  },
  {
   "cell_type": "markdown",
   "id": "cd6fd4e4",
   "metadata": {},
   "source": [
    "### Model 2 training (Logistic Regression)"
   ]
  },
  {
   "cell_type": "code",
   "execution_count": 24,
   "id": "ceebb8d3",
   "metadata": {},
   "outputs": [
    {
     "name": "stderr",
     "output_type": "stream",
     "text": [
      "C:\\anaconda\\lib\\site-packages\\sklearn\\linear_model\\_logistic.py:814: ConvergenceWarning: lbfgs failed to converge (status=1):\n",
      "STOP: TOTAL NO. of ITERATIONS REACHED LIMIT.\n",
      "\n",
      "Increase the number of iterations (max_iter) or scale the data as shown in:\n",
      "    https://scikit-learn.org/stable/modules/preprocessing.html\n",
      "Please also refer to the documentation for alternative solver options:\n",
      "    https://scikit-learn.org/stable/modules/linear_model.html#logistic-regression\n",
      "  n_iter_i = _check_optimize_result(\n"
     ]
    },
    {
     "data": {
      "text/plain": [
       "LogisticRegression()"
      ]
     },
     "execution_count": 24,
     "metadata": {},
     "output_type": "execute_result"
    }
   ],
   "source": [
    "from sklearn.linear_model import LogisticRegression\n",
    "\n",
    "lr_model = LogisticRegression()\n",
    "lr_model.fit(X_train, y_train)"
   ]
  },
  {
   "cell_type": "markdown",
   "id": "6ee24f1e",
   "metadata": {},
   "source": [
    "### Model 2 Evaluation (Logistic Regression)"
   ]
  },
  {
   "cell_type": "code",
   "execution_count": 25,
   "id": "66d14797",
   "metadata": {},
   "outputs": [
    {
     "name": "stdout",
     "output_type": "stream",
     "text": [
      "The Logistic regression model achieved an accuracy of 80.00% on the test set.\n"
     ]
    }
   ],
   "source": [
    "lr_pred = lr_model.predict(X_test)\n",
    "lr_accuracy = accuracy_score(y_test, lr_pred)\n",
    "\n",
    "print(\"The Logistic regression model achieved an accuracy of {:.2f}% on the test set.\".format(lr_accuracy * 100))"
   ]
  },
  {
   "cell_type": "code",
   "execution_count": 26,
   "id": "9581ae54",
   "metadata": {},
   "outputs": [
    {
     "name": "stdout",
     "output_type": "stream",
     "text": [
      "              precision    recall  f1-score   support\n",
      "\n",
      "           0       0.89      0.78      0.83      5165\n",
      "           1       0.58      0.52      0.55      2893\n",
      "           2       0.82      0.93      0.87      7233\n",
      "\n",
      "    accuracy                           0.80     15291\n",
      "   macro avg       0.76      0.74      0.75     15291\n",
      "weighted avg       0.80      0.80      0.80     15291\n",
      "\n"
     ]
    }
   ],
   "source": [
    "print(classification_report(y_test, lr_pred))"
   ]
  },
  {
   "cell_type": "markdown",
   "id": "800b0fbb",
   "metadata": {},
   "source": [
    "### Model 3 training (K-Nearest Neighbours)"
   ]
  },
  {
   "cell_type": "code",
   "execution_count": 27,
   "id": "a09cd61d",
   "metadata": {},
   "outputs": [
    {
     "data": {
      "text/plain": [
       "KNeighborsClassifier()"
      ]
     },
     "execution_count": 27,
     "metadata": {},
     "output_type": "execute_result"
    }
   ],
   "source": [
    "from sklearn.neighbors import KNeighborsClassifier\n",
    "\n",
    "knn_model = KNeighborsClassifier()\n",
    "knn_model.fit(X_train, y_train)"
   ]
  },
  {
   "cell_type": "markdown",
   "id": "438519c7",
   "metadata": {},
   "source": [
    "### Model 3 Evaluation (K-Nearest Neighbours)"
   ]
  },
  {
   "cell_type": "code",
   "execution_count": 28,
   "id": "17ceb274",
   "metadata": {},
   "outputs": [
    {
     "name": "stdout",
     "output_type": "stream",
     "text": [
      "The KNN model achieved an accuracy of 74.53% on the test set.\n"
     ]
    }
   ],
   "source": [
    "knn_pred = knn_model.predict(X_test)\n",
    "knn_accuracy = accuracy_score(y_test, knn_pred)\n",
    "\n",
    "print(\"The KNN model achieved an accuracy of {:.2f}% on the test set.\".format(knn_accuracy * 100))"
   ]
  },
  {
   "cell_type": "code",
   "execution_count": 29,
   "id": "10f2b7db",
   "metadata": {},
   "outputs": [
    {
     "name": "stdout",
     "output_type": "stream",
     "text": [
      "              precision    recall  f1-score   support\n",
      "\n",
      "           0       0.82      0.77      0.79      5165\n",
      "           1       0.48      0.40      0.44      2893\n",
      "           2       0.78      0.87      0.82      7233\n",
      "\n",
      "    accuracy                           0.75     15291\n",
      "   macro avg       0.69      0.68      0.68     15291\n",
      "weighted avg       0.74      0.75      0.74     15291\n",
      "\n"
     ]
    }
   ],
   "source": [
    "print(classification_report(y_test, knn_pred))"
   ]
  },
  {
   "cell_type": "markdown",
   "id": "64bcbb2e",
   "metadata": {},
   "source": [
    "### Model 1 (Random forest) is the best training model, so it will be used to predict the test_data"
   ]
  },
  {
   "cell_type": "code",
   "execution_count": 30,
   "id": "5d2ab494",
   "metadata": {},
   "outputs": [],
   "source": [
    "y_pred = rf_model.predict(test_data)\n",
    "\n",
    "test_data['Predicted_Target'] = y_pred"
   ]
  },
  {
   "cell_type": "code",
   "execution_count": 31,
   "id": "69003472",
   "metadata": {},
   "outputs": [
    {
     "data": {
      "text/html": [
       "<div>\n",
       "<style scoped>\n",
       "    .dataframe tbody tr th:only-of-type {\n",
       "        vertical-align: middle;\n",
       "    }\n",
       "\n",
       "    .dataframe tbody tr th {\n",
       "        vertical-align: top;\n",
       "    }\n",
       "\n",
       "    .dataframe thead th {\n",
       "        text-align: right;\n",
       "    }\n",
       "</style>\n",
       "<table border=\"1\" class=\"dataframe\">\n",
       "  <thead>\n",
       "    <tr style=\"text-align: right;\">\n",
       "      <th></th>\n",
       "      <th>Marital status</th>\n",
       "      <th>Application mode</th>\n",
       "      <th>Application order</th>\n",
       "      <th>Course</th>\n",
       "      <th>Daytime/evening attendance</th>\n",
       "      <th>Previous qualification</th>\n",
       "      <th>Previous qualification (grade)</th>\n",
       "      <th>Nationality</th>\n",
       "      <th>Mother's qualification</th>\n",
       "      <th>Father's qualification</th>\n",
       "      <th>...</th>\n",
       "      <th>Curricular units 2nd sem (credited)</th>\n",
       "      <th>Curricular units 2nd sem (enrolled)</th>\n",
       "      <th>Curricular units 2nd sem (evaluations)</th>\n",
       "      <th>Curricular units 2nd sem (approved)</th>\n",
       "      <th>Curricular units 2nd sem (grade)</th>\n",
       "      <th>Curricular units 2nd sem (without evaluations)</th>\n",
       "      <th>Unemployment rate</th>\n",
       "      <th>Inflation rate</th>\n",
       "      <th>GDP</th>\n",
       "      <th>Predicted_Target</th>\n",
       "    </tr>\n",
       "  </thead>\n",
       "  <tbody>\n",
       "    <tr>\n",
       "      <th>0</th>\n",
       "      <td>4</td>\n",
       "      <td>0</td>\n",
       "      <td>1</td>\n",
       "      <td>11</td>\n",
       "      <td>0</td>\n",
       "      <td>15</td>\n",
       "      <td>141.0</td>\n",
       "      <td>10</td>\n",
       "      <td>15</td>\n",
       "      <td>24</td>\n",
       "      <td>...</td>\n",
       "      <td>0</td>\n",
       "      <td>8</td>\n",
       "      <td>0</td>\n",
       "      <td>0</td>\n",
       "      <td>0.000000</td>\n",
       "      <td>0</td>\n",
       "      <td>13.9</td>\n",
       "      <td>-0.3</td>\n",
       "      <td>0.79</td>\n",
       "      <td>0</td>\n",
       "    </tr>\n",
       "    <tr>\n",
       "      <th>1</th>\n",
       "      <td>4</td>\n",
       "      <td>0</td>\n",
       "      <td>1</td>\n",
       "      <td>13</td>\n",
       "      <td>0</td>\n",
       "      <td>15</td>\n",
       "      <td>128.0</td>\n",
       "      <td>10</td>\n",
       "      <td>23</td>\n",
       "      <td>10</td>\n",
       "      <td>...</td>\n",
       "      <td>0</td>\n",
       "      <td>6</td>\n",
       "      <td>6</td>\n",
       "      <td>6</td>\n",
       "      <td>13.500000</td>\n",
       "      <td>0</td>\n",
       "      <td>11.1</td>\n",
       "      <td>0.6</td>\n",
       "      <td>2.02</td>\n",
       "      <td>2</td>\n",
       "    </tr>\n",
       "    <tr>\n",
       "      <th>2</th>\n",
       "      <td>4</td>\n",
       "      <td>0</td>\n",
       "      <td>1</td>\n",
       "      <td>13</td>\n",
       "      <td>0</td>\n",
       "      <td>15</td>\n",
       "      <td>118.0</td>\n",
       "      <td>10</td>\n",
       "      <td>23</td>\n",
       "      <td>10</td>\n",
       "      <td>...</td>\n",
       "      <td>0</td>\n",
       "      <td>6</td>\n",
       "      <td>11</td>\n",
       "      <td>5</td>\n",
       "      <td>11.000000</td>\n",
       "      <td>0</td>\n",
       "      <td>15.5</td>\n",
       "      <td>2.8</td>\n",
       "      <td>-4.06</td>\n",
       "      <td>2</td>\n",
       "    </tr>\n",
       "    <tr>\n",
       "      <th>3</th>\n",
       "      <td>4</td>\n",
       "      <td>14</td>\n",
       "      <td>1</td>\n",
       "      <td>9</td>\n",
       "      <td>0</td>\n",
       "      <td>16</td>\n",
       "      <td>130.0</td>\n",
       "      <td>10</td>\n",
       "      <td>23</td>\n",
       "      <td>10</td>\n",
       "      <td>...</td>\n",
       "      <td>3</td>\n",
       "      <td>8</td>\n",
       "      <td>14</td>\n",
       "      <td>5</td>\n",
       "      <td>11.000000</td>\n",
       "      <td>0</td>\n",
       "      <td>8.9</td>\n",
       "      <td>1.4</td>\n",
       "      <td>3.51</td>\n",
       "      <td>1</td>\n",
       "    </tr>\n",
       "    <tr>\n",
       "      <th>4</th>\n",
       "      <td>4</td>\n",
       "      <td>12</td>\n",
       "      <td>1</td>\n",
       "      <td>0</td>\n",
       "      <td>0</td>\n",
       "      <td>15</td>\n",
       "      <td>110.0</td>\n",
       "      <td>10</td>\n",
       "      <td>23</td>\n",
       "      <td>11</td>\n",
       "      <td>...</td>\n",
       "      <td>0</td>\n",
       "      <td>6</td>\n",
       "      <td>9</td>\n",
       "      <td>4</td>\n",
       "      <td>10.666667</td>\n",
       "      <td>2</td>\n",
       "      <td>7.6</td>\n",
       "      <td>2.6</td>\n",
       "      <td>0.32</td>\n",
       "      <td>1</td>\n",
       "    </tr>\n",
       "    <tr>\n",
       "      <th>...</th>\n",
       "      <td>...</td>\n",
       "      <td>...</td>\n",
       "      <td>...</td>\n",
       "      <td>...</td>\n",
       "      <td>...</td>\n",
       "      <td>...</td>\n",
       "      <td>...</td>\n",
       "      <td>...</td>\n",
       "      <td>...</td>\n",
       "      <td>...</td>\n",
       "      <td>...</td>\n",
       "      <td>...</td>\n",
       "      <td>...</td>\n",
       "      <td>...</td>\n",
       "      <td>...</td>\n",
       "      <td>...</td>\n",
       "      <td>...</td>\n",
       "      <td>...</td>\n",
       "      <td>...</td>\n",
       "      <td>...</td>\n",
       "      <td>...</td>\n",
       "    </tr>\n",
       "    <tr>\n",
       "      <th>51007</th>\n",
       "      <td>4</td>\n",
       "      <td>0</td>\n",
       "      <td>2</td>\n",
       "      <td>2</td>\n",
       "      <td>0</td>\n",
       "      <td>15</td>\n",
       "      <td>128.0</td>\n",
       "      <td>10</td>\n",
       "      <td>7</td>\n",
       "      <td>11</td>\n",
       "      <td>...</td>\n",
       "      <td>0</td>\n",
       "      <td>0</td>\n",
       "      <td>0</td>\n",
       "      <td>0</td>\n",
       "      <td>0.000000</td>\n",
       "      <td>0</td>\n",
       "      <td>15.5</td>\n",
       "      <td>2.8</td>\n",
       "      <td>-4.06</td>\n",
       "      <td>0</td>\n",
       "    </tr>\n",
       "    <tr>\n",
       "      <th>51008</th>\n",
       "      <td>3</td>\n",
       "      <td>12</td>\n",
       "      <td>1</td>\n",
       "      <td>7</td>\n",
       "      <td>0</td>\n",
       "      <td>5</td>\n",
       "      <td>133.1</td>\n",
       "      <td>10</td>\n",
       "      <td>8</td>\n",
       "      <td>11</td>\n",
       "      <td>...</td>\n",
       "      <td>0</td>\n",
       "      <td>5</td>\n",
       "      <td>5</td>\n",
       "      <td>0</td>\n",
       "      <td>0.000000</td>\n",
       "      <td>0</td>\n",
       "      <td>9.4</td>\n",
       "      <td>-0.8</td>\n",
       "      <td>-3.12</td>\n",
       "      <td>0</td>\n",
       "    </tr>\n",
       "    <tr>\n",
       "      <th>51009</th>\n",
       "      <td>4</td>\n",
       "      <td>0</td>\n",
       "      <td>1</td>\n",
       "      <td>2</td>\n",
       "      <td>0</td>\n",
       "      <td>15</td>\n",
       "      <td>127.0</td>\n",
       "      <td>10</td>\n",
       "      <td>23</td>\n",
       "      <td>24</td>\n",
       "      <td>...</td>\n",
       "      <td>0</td>\n",
       "      <td>0</td>\n",
       "      <td>0</td>\n",
       "      <td>0</td>\n",
       "      <td>0.000000</td>\n",
       "      <td>0</td>\n",
       "      <td>15.5</td>\n",
       "      <td>2.8</td>\n",
       "      <td>-4.06</td>\n",
       "      <td>0</td>\n",
       "    </tr>\n",
       "    <tr>\n",
       "      <th>51010</th>\n",
       "      <td>4</td>\n",
       "      <td>0</td>\n",
       "      <td>3</td>\n",
       "      <td>8</td>\n",
       "      <td>0</td>\n",
       "      <td>15</td>\n",
       "      <td>132.0</td>\n",
       "      <td>10</td>\n",
       "      <td>8</td>\n",
       "      <td>10</td>\n",
       "      <td>...</td>\n",
       "      <td>0</td>\n",
       "      <td>6</td>\n",
       "      <td>9</td>\n",
       "      <td>3</td>\n",
       "      <td>13.000000</td>\n",
       "      <td>0</td>\n",
       "      <td>7.6</td>\n",
       "      <td>2.6</td>\n",
       "      <td>0.32</td>\n",
       "      <td>0</td>\n",
       "    </tr>\n",
       "    <tr>\n",
       "      <th>51011</th>\n",
       "      <td>4</td>\n",
       "      <td>0</td>\n",
       "      <td>1</td>\n",
       "      <td>2</td>\n",
       "      <td>0</td>\n",
       "      <td>15</td>\n",
       "      <td>129.0</td>\n",
       "      <td>10</td>\n",
       "      <td>9</td>\n",
       "      <td>9</td>\n",
       "      <td>...</td>\n",
       "      <td>0</td>\n",
       "      <td>0</td>\n",
       "      <td>0</td>\n",
       "      <td>0</td>\n",
       "      <td>0.000000</td>\n",
       "      <td>0</td>\n",
       "      <td>7.6</td>\n",
       "      <td>2.6</td>\n",
       "      <td>0.32</td>\n",
       "      <td>0</td>\n",
       "    </tr>\n",
       "  </tbody>\n",
       "</table>\n",
       "<p>50961 rows × 37 columns</p>\n",
       "</div>"
      ],
      "text/plain": [
       "       Marital status  Application mode  Application order  Course  \\\n",
       "0                   4                 0                  1      11   \n",
       "1                   4                 0                  1      13   \n",
       "2                   4                 0                  1      13   \n",
       "3                   4                14                  1       9   \n",
       "4                   4                12                  1       0   \n",
       "...               ...               ...                ...     ...   \n",
       "51007               4                 0                  2       2   \n",
       "51008               3                12                  1       7   \n",
       "51009               4                 0                  1       2   \n",
       "51010               4                 0                  3       8   \n",
       "51011               4                 0                  1       2   \n",
       "\n",
       "       Daytime/evening attendance  Previous qualification  \\\n",
       "0                               0                      15   \n",
       "1                               0                      15   \n",
       "2                               0                      15   \n",
       "3                               0                      16   \n",
       "4                               0                      15   \n",
       "...                           ...                     ...   \n",
       "51007                           0                      15   \n",
       "51008                           0                       5   \n",
       "51009                           0                      15   \n",
       "51010                           0                      15   \n",
       "51011                           0                      15   \n",
       "\n",
       "       Previous qualification (grade)  Nationality  Mother's qualification  \\\n",
       "0                               141.0           10                      15   \n",
       "1                               128.0           10                      23   \n",
       "2                               118.0           10                      23   \n",
       "3                               130.0           10                      23   \n",
       "4                               110.0           10                      23   \n",
       "...                               ...          ...                     ...   \n",
       "51007                           128.0           10                       7   \n",
       "51008                           133.1           10                       8   \n",
       "51009                           127.0           10                      23   \n",
       "51010                           132.0           10                       8   \n",
       "51011                           129.0           10                       9   \n",
       "\n",
       "       Father's qualification  ...  Curricular units 2nd sem (credited)  \\\n",
       "0                          24  ...                                    0   \n",
       "1                          10  ...                                    0   \n",
       "2                          10  ...                                    0   \n",
       "3                          10  ...                                    3   \n",
       "4                          11  ...                                    0   \n",
       "...                       ...  ...                                  ...   \n",
       "51007                      11  ...                                    0   \n",
       "51008                      11  ...                                    0   \n",
       "51009                      24  ...                                    0   \n",
       "51010                      10  ...                                    0   \n",
       "51011                       9  ...                                    0   \n",
       "\n",
       "       Curricular units 2nd sem (enrolled)  \\\n",
       "0                                        8   \n",
       "1                                        6   \n",
       "2                                        6   \n",
       "3                                        8   \n",
       "4                                        6   \n",
       "...                                    ...   \n",
       "51007                                    0   \n",
       "51008                                    5   \n",
       "51009                                    0   \n",
       "51010                                    6   \n",
       "51011                                    0   \n",
       "\n",
       "       Curricular units 2nd sem (evaluations)  \\\n",
       "0                                           0   \n",
       "1                                           6   \n",
       "2                                          11   \n",
       "3                                          14   \n",
       "4                                           9   \n",
       "...                                       ...   \n",
       "51007                                       0   \n",
       "51008                                       5   \n",
       "51009                                       0   \n",
       "51010                                       9   \n",
       "51011                                       0   \n",
       "\n",
       "       Curricular units 2nd sem (approved)  Curricular units 2nd sem (grade)  \\\n",
       "0                                        0                          0.000000   \n",
       "1                                        6                         13.500000   \n",
       "2                                        5                         11.000000   \n",
       "3                                        5                         11.000000   \n",
       "4                                        4                         10.666667   \n",
       "...                                    ...                               ...   \n",
       "51007                                    0                          0.000000   \n",
       "51008                                    0                          0.000000   \n",
       "51009                                    0                          0.000000   \n",
       "51010                                    3                         13.000000   \n",
       "51011                                    0                          0.000000   \n",
       "\n",
       "       Curricular units 2nd sem (without evaluations)  Unemployment rate  \\\n",
       "0                                                   0               13.9   \n",
       "1                                                   0               11.1   \n",
       "2                                                   0               15.5   \n",
       "3                                                   0                8.9   \n",
       "4                                                   2                7.6   \n",
       "...                                               ...                ...   \n",
       "51007                                               0               15.5   \n",
       "51008                                               0                9.4   \n",
       "51009                                               0               15.5   \n",
       "51010                                               0                7.6   \n",
       "51011                                               0                7.6   \n",
       "\n",
       "       Inflation rate   GDP  Predicted_Target  \n",
       "0                -0.3  0.79                 0  \n",
       "1                 0.6  2.02                 2  \n",
       "2                 2.8 -4.06                 2  \n",
       "3                 1.4  3.51                 1  \n",
       "4                 2.6  0.32                 1  \n",
       "...               ...   ...               ...  \n",
       "51007             2.8 -4.06                 0  \n",
       "51008            -0.8 -3.12                 0  \n",
       "51009             2.8 -4.06                 0  \n",
       "51010             2.6  0.32                 0  \n",
       "51011             2.6  0.32                 0  \n",
       "\n",
       "[50961 rows x 37 columns]"
      ]
     },
     "execution_count": 31,
     "metadata": {},
     "output_type": "execute_result"
    }
   ],
   "source": [
    "test_data"
   ]
  },
  {
   "cell_type": "code",
   "execution_count": null,
   "id": "5ee216e9",
   "metadata": {},
   "outputs": [],
   "source": []
  }
 ],
 "metadata": {
  "kernelspec": {
   "display_name": "Python 3 (ipykernel)",
   "language": "python",
   "name": "python3"
  },
  "language_info": {
   "codemirror_mode": {
    "name": "ipython",
    "version": 3
   },
   "file_extension": ".py",
   "mimetype": "text/x-python",
   "name": "python",
   "nbconvert_exporter": "python",
   "pygments_lexer": "ipython3",
   "version": "3.9.12"
  }
 },
 "nbformat": 4,
 "nbformat_minor": 5
}
